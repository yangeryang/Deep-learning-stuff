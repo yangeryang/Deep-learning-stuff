{
 "cells": [
  {
   "cell_type": "markdown",
   "metadata": {
    "colab_type": "text",
    "id": "OML8yl-q8bMI"
   },
   "source": [
    "# Image Classification with CIFAR-10 dataset\n",
    "In this notebook, we are going to classify images from the [CIFAR-10 dataset](https://www.cs.toronto.edu/~kriz/cifar.html).  The dataset consists of airplanes, dogs, cats, and other objects. You'll preprocess the images, then train a convolutional neural network on all the samples. The images need to be normalized and the labels need to be one-hot encoded. Some more interesting datasets can be found [here](http://rodrigob.github.io/are_we_there_yet/build/#datasets)\n",
    "\n",
    "Some of the code and description of this notebook is borrowed by [this repo](https://github.com/udacity/deep-learning/tree/master/image-classification) provided by Udacity's Deep Learning Nanodegree program.\n",
    "\n",
    "## Get the Data\n",
    "Run the following cell to download the [CIFAR-10 dataset for python](https://www.cs.toronto.edu/~kriz/cifar-10-python.tar.gz)."
   ]
  },
  {
   "cell_type": "markdown",
   "metadata": {
    "colab_type": "text",
    "id": "7zyatANM8bMJ"
   },
   "source": [
    "#### Some references to look up\n",
    "- [CIFAR-10/CIFAR-100 dataset](https://www.cs.toronto.edu/~kriz/cifar.html): labeled subsets of the 80 million tiny images dataset. \n",
    "- [urlretrieve lib](https://docs.python.org/3.0/library/urllib.request.html): copy a network object denoted by a URL to a local file, if necessary\n",
    "- [tarfile lib](https://docs.python.org/2/library/tarfile.html): makes it possible to read and write tar archives, including those using gzip or bz2 compression.\n",
    "- [tqdm lib](https://pypi.python.org/pypi/tqdm): Fast, Extensible Progress Meter"
   ]
  },
  {
   "cell_type": "code",
   "execution_count": 1,
   "metadata": {
    "colab": {
     "autoexec": {
      "startup": false,
      "wait_interval": 0
     },
     "base_uri": "https://localhost:8080/",
     "height": 468
    },
    "colab_type": "code",
    "executionInfo": {
     "elapsed": 3771,
     "status": "ok",
     "timestamp": 1528927906393,
     "user": {
      "displayName": "Tony Cao",
      "photoUrl": "https://lh3.googleusercontent.com/a/default-user=s128",
      "userId": "100855536189264056432"
     },
     "user_tz": 420
    },
    "id": "sMRXr_K39Hka",
    "outputId": "5bcd14b1-8fe3-4f5e-abba-a80bdbf236d7"
   },
   "outputs": [
    {
     "name": "stdout",
     "output_type": "stream",
     "text": [
      "ps: No user named 'x'\n",
      "ln: /usr/bin/nvidia-smi: Operation not permitted\n",
      "/bin/sh: nvidia-smi: command not found\n"
     ]
    }
   ],
   "source": [
    "!ps -aux\n",
    "# !kill -9 1356\n",
    "!ln -sf /opt/bin/nvidia-smi /usr/bin/nvidia-smi\n",
    "!nvidia-smi\n",
    "\n",
    "# OOM\n",
    "# !top"
   ]
  },
  {
   "cell_type": "code",
   "execution_count": 0,
   "metadata": {
    "colab": {
     "autoexec": {
      "startup": false,
      "wait_interval": 0
     }
    },
    "colab_type": "code",
    "collapsed": true,
    "id": "bZB2tfOHFRbY",
    "outputId": "88b4b038-14a9-4966-ae6b-bb9d99ba4de8"
   },
   "outputs": [],
   "source": [
    "!ls cifar-10-batches-py\n",
    "!pwd"
   ]
  },
  {
   "cell_type": "code",
   "execution_count": 2,
   "metadata": {
    "colab": {
     "autoexec": {
      "startup": false,
      "wait_interval": 0
     }
    },
    "colab_type": "code",
    "id": "61lIlTy88bML",
    "outputId": "df5d6546-0862-41b2-8bbd-64d4ac8765a6"
   },
   "outputs": [
    {
     "name": "stdout",
     "output_type": "stream",
     "text": [
      "downloading dataset...\n",
      "untar dataset...\n"
     ]
    }
   ],
   "source": [
    "from urllib.request import urlretrieve\n",
    "from os.path import isfile, isdir\n",
    "import tarfile\n",
    "\n",
    "cifar10_dataset_folder_path = 'cifar-10-batches-py'\n",
    "\n",
    "\"\"\" \n",
    "    check if the data (zip) file is already downloaded\n",
    "    if not, download it from \"https://www.cs.toronto.edu/~kriz/cifar-10-python.tar.gz\" and save as cifar-10-python.tar.gz\n",
    "\"\"\"\n",
    "if not isfile('cifar-10-python.tar.gz'):\n",
    "    print('downloading dataset...')\n",
    "    urlretrieve(\n",
    "        'https://www.cs.toronto.edu/~kriz/cifar-10-python.tar.gz',\n",
    "        'cifar-10-python.tar.gz')\n",
    "\n",
    "if not isdir(cifar10_dataset_folder_path):\n",
    "    print('untar dataset...')\n",
    "    with tarfile.open('cifar-10-python.tar.gz') as tar:\n",
    "        tar.extractall()\n",
    "        tar.close()\n"
   ]
  },
  {
   "cell_type": "markdown",
   "metadata": {
    "colab_type": "text",
    "id": "qZ_ntMXB8bMS"
   },
   "source": [
    "## Before Jumping in\n",
    "\n",
    "### Some references to look up\n",
    "- [python pickle](https://docs.python.org/3/library/pickle.html): implements binary protocols for serializing and de-serializing a Python object structure.\n",
    "- [numpy reshape](https://docs.scipy.org/doc/numpy/reference/generated/numpy.reshape.html): Gives a new shape to an array without changing its data.\n",
    "- [numpy transpose](https://docs.scipy.org/doc/numpy/reference/generated/numpy.transpose.html): Permute the dimensions of an array.\n",
    "- [numpy transpose with list of axes explanation](https://stackoverflow.com/questions/32034237/how-does-numpys-transpose-method-permute-the-axes-of-an-array)\n",
    "- [tensorflow conv2d](https://www.tensorflow.org/api_docs/python/tf/nn/conv2d): check out input with the argument, data_format. \"NHWC\": [batch, height, width, channels], \"NCHW\": [batch, channels, height, width].\n",
    "- [row major order explanation](https://en.wikipedia.org/wiki/Row-_and_column-major_order)"
   ]
  },
  {
   "cell_type": "code",
   "execution_count": 3,
   "metadata": {
    "colab": {
     "autoexec": {
      "startup": false,
      "wait_interval": 0
     }
    },
    "colab_type": "code",
    "collapsed": true,
    "id": "NlUooH5-8bMU"
   },
   "outputs": [],
   "source": [
    "import pickle\n",
    "import numpy as np\n",
    "import matplotlib.pyplot as plt"
   ]
  },
  {
   "cell_type": "markdown",
   "metadata": {
    "colab_type": "text",
    "id": "0gSPiiBr8bMX"
   },
   "source": [
    "### List of files \n",
    "\n",
    "![](./list_of_batch_files.png)\n",
    "\n",
    "As seen above picture, the dataset is broken into batches to **prevent** your machine from running **out of memory**. The CIFAR-10 dataset consists of 5 batches, named `data_batch_1`, `data_batch_2`, etc..\n",
    "\n",
    "\n",
    "### Understanding the original data \n",
    "\n",
    "The original a batch data is (10000 x 3072) dimensional tensor expressed in numpy array, where the number of columns, (10000), indicates the number of sample data. As stated in the [CIFAR-10/CIFAR-100 dataset](https://www.cs.toronto.edu/~kriz/cifar.html), the row vector, (3072) represents an color image of 32x32 pixels. Since this project is going to use CNN for the classification tasks, the row vector, (3072), is not an appropriate form of image data to feed. In order to feed an image data into a CNN model, the dimension of the tensor representing an image data should be either (width x height x num_channel) or (num_channel x width x height). It depends on your choice (check out the [tensorflow conv2d](https://www.tensorflow.org/api_docs/python/tf/nn/conv2d)). In this particular project, I am going to use the dimension of the first choice because the default choice in tensorflow's CNN operation is so.\n",
    "\n",
    "[O] need to be modified into a new shape\n",
    "\n",
    "### Understanding the original labels\n",
    "\n",
    "The label data is just a list of 10000 numbers in the range 0-9, which corresponds to each of the 10 classes in CIFAR-10. \n",
    "\n",
    "* **airplane**\n",
    "* **automobile**\n",
    "* **bird**\n",
    "* **cat**\n",
    "* **deer**\n",
    "* **dog**\n",
    "* **frog**\n",
    "* **horse**\n",
    "* **ship**\n",
    "* **truck**\n",
    "\n",
    "[X] need to be modified into a new shape\n"
   ]
  },
  {
   "cell_type": "code",
   "execution_count": 0,
   "metadata": {
    "colab": {
     "autoexec": {
      "startup": false,
      "wait_interval": 0
     }
    },
    "colab_type": "code",
    "collapsed": true,
    "id": "hw0tp4oR8bMY"
   },
   "outputs": [],
   "source": [
    "def load_label_names():\n",
    "    return ['airplane', 'automobile', 'bird', 'cat', 'deer', 'dog', 'frog', 'horse', 'ship', 'truck']"
   ]
  },
  {
   "cell_type": "markdown",
   "metadata": {
    "colab_type": "text",
    "id": "Z-vOcxsx8bMa"
   },
   "source": [
    "### How to reshape into a such form?\n",
    "\n",
    "The row vector (3072) has the exact same number of elements if you calculate 32\\*32\\*3==3072. In order to reshape the row vector, (3072), there are two steps required. The **first** step is involved with using **reshape** function in numpy, and the **second** step is involved with using **transpose** function in numpy as well.\n",
    "\n",
    "By definition from the official web site, **reshape** function gives a new shape to an array without changing its data. Here, the phrase **without changing its data** is an important part. **reshape** operations should be delivered in three more detailed step. The following direction is described in a logical concept. \n",
    "\n",
    "1. divide the row vector (3072) into 3 pieces. Each piece corresponds to the each channels.\n",
    "  - this results in (3 x 1024) dimension of tensor\n",
    "2. divide the resulting tensor from the previous step with 32. 32 here means width of an image.\n",
    "  - this results in (3 x 32 x 32)\n",
    "\n",
    "In order to implement the directions written in logical sense in numpy, **reshape** function should be called in the following arguments, (10000, 3, 32, 32). As you noticed, reshape function doesn't automatically divide further when the third value (32, width) is provided. We need to explicitly specify the value for the last value (32, height)\n",
    "\n",
    "\n",
    "This is not the end of story. Now, the image data is represented as (num_channel, width, height) form. However, **this is not the shape tensorflow and matplotlib are expecting**. They are expecting different shape of (width, height, num_channel) instead. We need to swap the order of each axes, and that is where **transpose** function comes in.\n",
    "\n",
    "The **transpose** function can take a list of axes, and each value specifies where it wants to move around. For example, calling transpose with argument (1, 2, 0) in an numpy array of (num_channel, width, height) will return a new numpy array of (width, height, num_channel).\n",
    "\n",
    "<img src=\"https://raw.githubusercontent.com/deep-diver/CIFAR10-img-classification-tensorflow/master/reshape-transpose.png\" alt=\"Drawing\" style=\"width: 800px;\"/>"
   ]
  },
  {
   "cell_type": "code",
   "execution_count": 0,
   "metadata": {
    "colab": {
     "autoexec": {
      "startup": false,
      "wait_interval": 0
     }
    },
    "colab_type": "code",
    "collapsed": true,
    "id": "aG37xdbO8bMb"
   },
   "outputs": [],
   "source": [
    "def load_cfar10_batch(cifar10_dataset_folder_path, batch_id):\n",
    "    with open(cifar10_dataset_folder_path + '/data_batch_' + str(batch_id), mode='rb') as file:\n",
    "        # note the encoding type is 'latin1'\n",
    "        batch = pickle.load(file, encoding='latin1')\n",
    "        \n",
    "    features = batch['data'].reshape((len(batch['data']), 3, 32, 32)).transpose(0, 2, 3, 1)\n",
    "    labels = batch['labels']\n",
    "        \n",
    "    return features, labels"
   ]
  },
  {
   "cell_type": "markdown",
   "metadata": {
    "colab_type": "text",
    "id": "jwca_e8x8bMf"
   },
   "source": [
    "## Explore the Data\n",
    "\n",
    "Understanding a dataset is part of making predictions on the data.  Play around with the code cell below by changing the `batch_id` and `sample_id`. The `batch_id` is the id for a batch (1-5). The `sample_id` is the id for a image and label pair in the batch.\n",
    "\n",
    "The display_stats defined below answers some of questions like in a given batch of data..\n",
    "- \"What are all possible labels?\"\n",
    "- \"What is the range of values for the image data?\"\n",
    "- \"Are the labels in order or random?\"\n"
   ]
  },
  {
   "cell_type": "code",
   "execution_count": 0,
   "metadata": {
    "colab": {
     "autoexec": {
      "startup": false,
      "wait_interval": 0
     }
    },
    "colab_type": "code",
    "collapsed": true,
    "id": "T6ShT7tP8bMf"
   },
   "outputs": [],
   "source": [
    "def display_stats(cifar10_dataset_folder_path, batch_id, sample_id):\n",
    "    features, labels = load_cfar10_batch(cifar10_dataset_folder_path, batch_id)\n",
    "    \n",
    "    if not (0 <= sample_id < len(features)):\n",
    "        print('{} samples in batch {}.  {} is out of range.'.format(len(features), batch_id, sample_id))\n",
    "        return None\n",
    "\n",
    "    print('\\nStats of batch #{}:'.format(batch_id))\n",
    "    print('# of Samples: {}\\n'.format(len(features)))\n",
    "    \n",
    "    label_names = load_label_names()\n",
    "    label_counts = dict(zip(*np.unique(labels, return_counts=True)))\n",
    "    for key, value in label_counts.items():\n",
    "        print('Label Counts of [{}]({}) : {}'.format(key, label_names[key].upper(), value))\n",
    "    \n",
    "    sample_image = features[sample_id]\n",
    "    sample_label = labels[sample_id]\n",
    "    \n",
    "    print('\\nExample of Image {}:'.format(sample_id))\n",
    "    print('Image - Min Value: {} Max Value: {}'.format(sample_image.min(), sample_image.max()))\n",
    "    print('Image - Shape: {}'.format(sample_image.shape))\n",
    "    print('Label - Label Id: {} Name: {}'.format(sample_label, label_names[sample_label]))\n",
    "    \n",
    "    plt.imshow(sample_image)"
   ]
  },
  {
   "cell_type": "code",
   "execution_count": 8,
   "metadata": {
    "colab": {
     "autoexec": {
      "startup": false,
      "wait_interval": 0
     },
     "base_uri": "https://localhost:8080/",
     "height": 595
    },
    "colab_type": "code",
    "executionInfo": {
     "elapsed": 766,
     "status": "ok",
     "timestamp": 1528927913937,
     "user": {
      "displayName": "Tony Cao",
      "photoUrl": "https://lh3.googleusercontent.com/a/default-user=s128",
      "userId": "100855536189264056432"
     },
     "user_tz": 420
    },
    "id": "TimExWP98bMj",
    "outputId": "70e3424f-90fe-4acf-d8ca-b046ad38145c"
   },
   "outputs": [
    {
     "name": "stdout",
     "output_type": "stream",
     "text": [
      "\n",
      "Stats of batch #3:\n",
      "# of Samples: 10000\n",
      "\n",
      "Label Counts of [0](AIRPLANE) : 994\n",
      "Label Counts of [1](AUTOMOBILE) : 1042\n",
      "Label Counts of [2](BIRD) : 965\n",
      "Label Counts of [3](CAT) : 997\n",
      "Label Counts of [4](DEER) : 990\n",
      "Label Counts of [5](DOG) : 1029\n",
      "Label Counts of [6](FROG) : 978\n",
      "Label Counts of [7](HORSE) : 1015\n",
      "Label Counts of [8](SHIP) : 961\n",
      "Label Counts of [9](TRUCK) : 1029\n",
      "\n",
      "Example of Image 7001:\n",
      "Image - Min Value: 4 Max Value: 224\n",
      "Image - Shape: (32, 32, 3)\n",
      "Label - Label Id: 2 Name: bird\n"
     ]
    },
    {
     "data": {
      "image/png": "[encoded data removed]",
      "text/plain": [
       "<matplotlib.figure.Figure at 0x7fa1adbbfa20>"
      ]
     },
     "metadata": {
      "image/png": {
       "height": 248,
       "width": 249
      },
      "tags": []
     },
     "output_type": "display_data"
    }
   ],
   "source": [
    "%matplotlib inline\n",
    "%config InlineBackend.figure_format = 'retina'\n",
    "\n",
    "import numpy as np\n",
    "\n",
    "# Explore the dataset\n",
    "batch_id = 3\n",
    "sample_id = 7001\n",
    "display_stats(cifar10_dataset_folder_path, batch_id, sample_id)"
   ]
  },
  {
   "cell_type": "markdown",
   "metadata": {
    "colab_type": "text",
    "id": "XApPnHNa8bMm"
   },
   "source": [
    "## Implement Preprocess Functions\n",
    "### Normalize\n",
    "**Min-Max Normalization**\n",
    "- this simply makes all x values to range between 0 and 1.\n",
    "- y = (x-min) / (max-min)\n",
    "\n",
    "**Some references to look up**\n",
    "- [Min-Max Normalization](https://www.quora.com/What-is-the-meaning-of-min-max-normalization)\n",
    "- [Watch \"why normalizing inputs\" / deeplearning.ai - Andrew Ng.](https://www.youtube.com/watch?v=FDCfw-YqWTE)\n",
    "- [Exploding, Vainishing Gradient descent / deeplearning.ai - Andrew Ng.](https://www.youtube.com/watch?v=qhXZsFVxGKo)\n",
    "\n",
    "`normalize` function takes an image data, `x`, and returns it as a normalized Numpy array. The values in the original data is going to be transformed in range of 0 to 1, inclusive without change the shape of the array. A simply answer to why normalization should be performed is somewhat related to activation function.\n",
    "\n",
    "For example, sigmoid activation function takes an input value and outputs a new value ranging from 0 to 1. When the input value is somewhat large, the output value easily reaches the max value 1. Similarily, when the input value is somewhat small, the output value easily reaches the max value 0. \n",
    "\n",
    "<img src=\"https://upload.wikimedia.org/wikipedia/commons/thumb/8/88/Logistic-curve.svg/480px-Logistic-curve.svg.png\" alt=\"Drawing\" style=\"width: 300px;\"/>\n",
    "\n",
    "For another example, ReLU activation function takes an input value and outputs a new value ranging from 0 to infinity. When the input value is somewhat large, the output value increases linearly. However, when the input value is somewhat small, the output value easily reaches the max value 0. \n",
    "\n",
    "<img src=\"https://leonardoaraujosantos.gitbooks.io/artificial-inteligence/content/image_folder_4/Relu.jpeg\" alt=\"Drawing\" style=\"width: 300px;\"/>\n",
    "\n",
    "Now, when we think about the image data, all values originally ranges from 0 to 255. This sounds like when it is passed into sigmoid function, the output is almost always 1, and when it is passed into ReLu function, the output could be very huge. When backpropagation process is performed to optimize the networks, this could lead to an exploding gradient which leads to an aweful learning steps. In order to avoid this issue, ideally, it is better let all the values be around 0 and 1."
   ]
  },
  {
   "cell_type": "code",
   "execution_count": 0,
   "metadata": {
    "colab": {
     "autoexec": {
      "startup": false,
      "wait_interval": 0
     }
    },
    "colab_type": "code",
    "collapsed": true,
    "id": "2y57EpD98bMn"
   },
   "outputs": [],
   "source": [
    "def normalize(x):\n",
    "    \"\"\"\n",
    "        argument\n",
    "            - x: input image data in numpy array [32, 32, 3]\n",
    "        return\n",
    "            - normalized x \n",
    "    \"\"\"\n",
    "    min_val = np.min(x)\n",
    "    max_val = np.max(x)\n",
    "    x = (x-min_val) / (max_val-min_val)\n",
    "    return x"
   ]
  },
  {
   "cell_type": "markdown",
   "metadata": {
    "colab_type": "text",
    "id": "KevJpvnw8bMr"
   },
   "source": [
    "### One-hot encode\n",
    "\n",
    "Since the output of our model is going to show the probabilities of where an image should be categorized as a prediction. There should be a vector having the same number of elements as the number of image classes. For instance, CIFAR-10 provides 10 different classes of image, so we need a vector in size of 10 as well. Each element represents the predicting probability of each classes.\n",
    "\n",
    "Also, our model should be able to compare the prediction with the ground truth label. It means the shape of the label data should also be transformed into a vector in size of 10 too. Instead, because label is the ground truth, we set the value 1 to the corresponding element.\n",
    "\n",
    "**`one_hot_encode`** function takes the input, **`x`**, which is a list of labels(ground truth). The total number of element in the list is the total number of samples in a batch. **`one_hot_encode`** function returns a 2 dimensional tensor, where the number of row is the size of the batch, and the number of column is the number of image classes.\n",
    "\n",
    "#### some references to look up\n",
    "- [one hot encoding](https://www.quora.com/What-is-one-hot-encoding-and-when-is-it-used-in-data-science)"
   ]
  },
  {
   "cell_type": "code",
   "execution_count": 0,
   "metadata": {
    "colab": {
     "autoexec": {
      "startup": false,
      "wait_interval": 0
     }
    },
    "colab_type": "code",
    "collapsed": true,
    "id": "WSqEAs368bMs"
   },
   "outputs": [],
   "source": [
    "def one_hot_encode(x, num_classes=10):\n",
    "    \"\"\"\n",
    "        argument\n",
    "            - x: a list of labels\n",
    "        return\n",
    "            - one hot encoding matrix (number of labels, number of class)\n",
    "    \"\"\"\n",
    "    encoded = np.zeros((len(x), num_classes))\n",
    "    \n",
    "    for idx, val in enumerate(x):\n",
    "        encoded[idx][val] = 1\n",
    "    \n",
    "    return encoded"
   ]
  },
  {
   "cell_type": "markdown",
   "metadata": {
    "colab_type": "text",
    "id": "BbMBKd298bMv"
   },
   "source": [
    "## Preprocess all the data and save it\n",
    "\n",
    "The code cell below uses the previously implemented functions, normalize and one_hot_encode, to preprocess the given dataset.\n",
    "Running the code cell below will preprocess all the CIFAR-10 data and save it to file. The code below also uses 10% of the training data for validation. \n",
    "\n",
    "<img src=\"https://raw.githubusercontent.com/deep-diver/CIFAR10-img-classification-tensorflow/master/train-valid-test%20split.png\" alt=\"Drawing\" style=\"width: 700px;\"/>"
   ]
  },
  {
   "cell_type": "code",
   "execution_count": 0,
   "metadata": {
    "colab": {
     "autoexec": {
      "startup": false,
      "wait_interval": 0
     }
    },
    "colab_type": "code",
    "collapsed": true,
    "id": "fuSNv7S_8bMv"
   },
   "outputs": [],
   "source": [
    "def _preprocess_and_save(normalize, one_hot_encode, features, labels, filename):\n",
    "    features = normalize(features)\n",
    "    labels = one_hot_encode(labels)\n",
    "\n",
    "    pickle.dump((features, labels), open(filename, 'wb'))\n",
    "\n",
    "\n",
    "def preprocess_and_save_data(cifar10_dataset_folder_path, normalize, one_hot_encode):\n",
    "    n_batches = 5\n",
    "    valid_features = []\n",
    "    valid_labels = []\n",
    "\n",
    "    for batch_i in range(1, n_batches + 1):\n",
    "        features, labels = load_cfar10_batch(cifar10_dataset_folder_path, batch_i)\n",
    "        \n",
    "        # find index to be the point as validation data in the whole dataset of the batch (10%)\n",
    "        index_of_validation = int(len(features) * 0.1)\n",
    "\n",
    "        # preprocess the 90% of the whole dataset of the batch\n",
    "        # - normalize the features\n",
    "        # - one_hot_encode the lables\n",
    "        # - save in a new file named, \"preprocess_batch_\" + batch_number\n",
    "        # - each file for each batch\n",
    "        _preprocess_and_save(normalize, one_hot_encode,\n",
    "                             features[:-index_of_validation], labels[:-index_of_validation], \n",
    "                             'preprocess_batch_' + str(batch_i) + '.p')\n",
    "\n",
    "        # unlike the training dataset, validation dataset will be added through all batch dataset\n",
    "        # - take 10% of the whold dataset of the batch\n",
    "        # - add them into a list of\n",
    "        #   - valid_features\n",
    "        #   - valid_labels\n",
    "        valid_features.extend(features[-index_of_validation:])\n",
    "        valid_labels.extend(labels[-index_of_validation:])\n",
    "\n",
    "    # preprocess the all stacked validation dataset\n",
    "    _preprocess_and_save(normalize, one_hot_encode,\n",
    "                         np.array(valid_features), np.array(valid_labels),\n",
    "                         'preprocess_validation.p')\n",
    "\n",
    "    # load the test dataset\n",
    "    with open(cifar10_dataset_folder_path + '/test_batch', mode='rb') as file:\n",
    "        batch = pickle.load(file, encoding='latin1')\n",
    "\n",
    "    # preprocess the testing data\n",
    "    test_features = batch['data'].reshape((len(batch['data']), 3, 32, 32)).transpose(0, 2, 3, 1)\n",
    "    test_labels = batch['labels']\n",
    "\n",
    "    # Preprocess and Save all testing data\n",
    "    _preprocess_and_save(normalize, one_hot_encode,\n",
    "                         np.array(test_features), np.array(test_labels),\n",
    "                         'preprocess_training.p')"
   ]
  },
  {
   "cell_type": "code",
   "execution_count": 0,
   "metadata": {
    "colab": {
     "autoexec": {
      "startup": false,
      "wait_interval": 0
     }
    },
    "colab_type": "code",
    "collapsed": true,
    "id": "3y-P62wK8bMy"
   },
   "outputs": [],
   "source": [
    "preprocess_and_save_data(cifar10_dataset_folder_path, normalize, one_hot_encode)"
   ]
  },
  {
   "cell_type": "markdown",
   "metadata": {
    "colab_type": "text",
    "id": "jeNWy9Ge8bM3"
   },
   "source": [
    "## Checkpoint\n"
   ]
  },
  {
   "cell_type": "code",
   "execution_count": 0,
   "metadata": {
    "colab": {
     "autoexec": {
      "startup": false,
      "wait_interval": 0
     }
    },
    "colab_type": "code",
    "collapsed": true,
    "id": "MC2QLaQ08bM5"
   },
   "outputs": [],
   "source": [
    "import pickle\n",
    "\n",
    "valid_features, valid_labels = pickle.load(open('preprocess_validation.p', mode='rb'))"
   ]
  },
  {
   "cell_type": "markdown",
   "metadata": {
    "colab_type": "text",
    "id": "DY6j2WiF8bM_"
   },
   "source": [
    "## Tensorflow Basic\n",
    "\n",
    "Before diving in building the network and training process, it is good to remind myself how Tensorflow works. \n",
    "\n",
    "### Tensorflow Packages\n",
    "Tensorflow comes with bunch of packages. You can even find modules having similary functionalities. For instance, tf.nn.conv2d and tf.layers.conv2d are both 2-D convolutional operations. Here are the purposes of the categories of each packages.\n",
    "\n",
    "#### tf.nn: lower level APIs for neural network\n",
    "  - each APIs under this package has its sole purpose\n",
    "  - for instance, in order to apply activation function after conv2d, you need two separate API calls\n",
    "  - you probably have to set lots of settings by yourself manually\n",
    "\n",
    "#### tf.layers: higher level APIs for neural network\n",
    "  - each APIs under this package probably has streamlined processes\n",
    "  - for instance, in order to apply activation function after conv2d, you don't need two spearate API calls. Intead, conv2d API under this package has activation argument\n",
    "  - each APIs under this package comes with lots of default setting in arguments\n",
    "  \n",
    "#### tf.contrib: contrib module containing volatile or experimental code\n",
    "  - like the documents explain, this package provides experimental codes\n",
    "  - you could probably find more handy APIs\n",
    "  - you could look up this package when you don't find functionality under the main packages\n",
    "  - It is meant to contain features and contributions that eventually should get merged into core TensorFlow, but you can think of them like under construction\n",
    "\n",
    "I am going to use APIs under each different packages so that I could be familiar with different API usages. Below is the list of references APIs I am going to use for implementing the entire model.\n",
    "\n",
    "#### some references to look up\n",
    "\n",
    "- [Stanford CS20 'Tensorflow for Deep Learning Research'](https://web.stanford.edu/class/cs20si/syllabus.html)\n",
    "\n",
    "### Tensorflow Workflow\n",
    "\n",
    "According to the official document, **TensorFlow** uses a **dataflow graph** to represent your computation in terms of the dependencies between individual operations. This leads to a low-level programming model in which you **first define the dataflow graph**, **then** create a TensorFlow **session to run parts of the graph** across a set of local and remote devices.\n",
    "\n",
    "**Dataflow** is a common programming model for **parallel computing**. In a dataflow graph, the nodes represent units of computation, and the edges represent the data consumed or produced by a computation. For example, in a TensorFlow graph, the tf.matmul operation would correspond to a single node with two incoming edges (the matrices to be multiplied) and one outgoing edge (the result of the multiplication).\n",
    "\n",
    "Most **TensorFlow** programs **start with a dataflow graph construction phase**. In this phase, you invoke TensorFlow API functions that construct new tf.Operation (node) and tf.Tensor (edge) objects and add them to a tf.Graph instance. **TensorFlow provides a default graph** that is an **implicit argument to all API functions in the same context**.\n",
    "\n",
    "The **tf.Session.run method** is the main mechanism for **running a tf.Operation or evaluating a tf.Tensor**. You can pass one or more tf.Operation or tf.Tensor objects to tf.Session.run, and TensorFlow will execute the operations that are needed to compute the result.\n",
    "\n",
    "<img src=\"https://www.tensorflow.org/versions/r1.3/images/tensors_flowing.gif\" alt=\"Drawing\" style=\"width: 300px;\"/>\n",
    "\n",
    "#### some references to look up\n",
    "- [Tensorflow Architecture](https://www.tensorflow.org/extend/architecture)\n",
    "- [Tensorflow Graphs and Sessions](https://www.tensorflow.org/versions/r1.3/programmers_guide/graphs)"
   ]
  },
  {
   "cell_type": "markdown",
   "metadata": {
    "colab_type": "text",
    "id": "-Pmr-CAp8bNA"
   },
   "source": [
    "## Build the network\n",
    "\n",
    "The image below depicts what the model would look like in this notebook.\n",
    "\n",
    "<img src=\"https://raw.githubusercontent.com/deep-diver/CIFAR10-img-classification-tensorflow/master/conv_model.png\" alt=\"Drawing\" style=\"width: 1000px;\"/>"
   ]
  },
  {
   "cell_type": "markdown",
   "metadata": {
    "colab_type": "text",
    "id": "b9VPUoIh8bNB"
   },
   "source": [
    "### Prepare Input for the Model\n",
    "\n",
    "#### some references to look up\n",
    "- [Tensorflow Data Type](https://www.tensorflow.org/api_docs/python/tf/DType)\n",
    "- [Tensorflow Placeholder](https://www.tensorflow.org/api_docs/python/tf/placeholder)\n",
    "- [Tensorflow Variable](https://www.tensorflow.org/api_docs/python/tf/Variable)"
   ]
  },
  {
   "cell_type": "code",
   "execution_count": 0,
   "metadata": {
    "colab": {
     "autoexec": {
      "startup": false,
      "wait_interval": 0
     }
    },
    "colab_type": "code",
    "collapsed": true,
    "id": "HOGIrzyF8bNC"
   },
   "outputs": [],
   "source": [
    "import tensorflow as tf\n",
    "\n",
    "# Remove previous weights, bias, inputs, etc..\n",
    "tf.reset_default_graph()\n",
    "\n",
    "# Inputs\n",
    "x = tf.placeholder(tf.float32, shape=(None, 32, 32, 3), name='input_x')\n",
    "y =  tf.placeholder(tf.float32, shape=(None, 10), name='output_y')\n",
    "keep_prob = tf.placeholder(tf.float32, name='keep_prob')"
   ]
  },
  {
   "cell_type": "markdown",
   "metadata": {
    "colab_type": "text",
    "id": "Uyog0xwP8bNF"
   },
   "source": [
    "### Create Convolutional Model\n",
    "\n",
    "The entire model consists of 14 layers in total. In addition to layers below lists what techniques are applied to build the model.\n",
    "\n",
    "1. Convolution with 64 different filters in size of (3x3)\n",
    "2. Max Pooling by 2\n",
    "  - ReLU activation function \n",
    "  - Batch Normalization\n",
    "3. Convolution with 128 different filters in size of (3x3)\n",
    "4. Max Pooling by 2\n",
    "  - ReLU activation function \n",
    "  - Batch Normalization\n",
    "5. Convolution with 256 different filters in size of (3x3)\n",
    "6. Max Pooling by 2\n",
    "  - ReLU activation function \n",
    "  - Batch Normalization\n",
    "7. Convolution with 512 different filters in size of (3x3)\n",
    "8. Max Pooling by 2\n",
    "  - ReLU activation function \n",
    "  - Batch Normalization\n",
    "9. Flattening the 3-D output of the last convolutional operations.\n",
    "10. Fully Connected Layer with 128 units\n",
    "  - Dropout \n",
    "  - Batch Normalization\n",
    "11. Fully Connected Layer with 256 units\n",
    "  - Dropout \n",
    "  - Batch Normalization\n",
    "12. Fully Connected Layer with 512 units\n",
    "  - Dropout \n",
    "  - Batch Normalization\n",
    "13. Fully Connected Layer with 1024 units\n",
    "  - Dropout \n",
    "  - Batch Normalization\n",
    "14. Fully Connected Layer with 10 units (number of image classes)\n",
    "\n",
    "the image below decribes how the conceptual convolving operation differs from the tensorflow implementation when you use [Channel x Width x Height] tensor format. \n",
    "\n",
    "<img src=\"https://raw.githubusercontent.com/deep-diver/CIFAR10-img-classification-tensorflow/master/convolving.png\" alt=\"Drawing\" style=\"width: 1000px;\"/>\n",
    "\n",
    "#### some references to look up\n",
    "- [Tensorflow Conv2D under tf.nn](https://www.tensorflow.org/api_docs/python/tf/nn/conv2d)\n",
    "- [Tensorflow ReLU under tf.nn](https://www.tensorflow.org/api_docs/python/tf/nn/relu)\n",
    "- [Tensorflow Max Pooling under tf.nn](https://www.tensorflow.org/api_docs/python/tf/nn/max_pool)\n",
    "- [Tensorflow Dropout under tf.nn](https://www.tensorflow.org/api_docs/python/tf/nn/dropout)\n",
    "- [Tensorflow Batch Normalization under tf.layers](https://www.tensorflow.org/api_docs/python/tf/layers/batch_normalization)\n",
    "- [Tensorflow Flatten under tf.contrib](https://www.tensorflow.org/api_docs/python/tf/contrib/layers/flatten)\n",
    "- [Tensorflow Fully Connected under tf.contrib](https://www.tensorflow.org/api_docs/python/tf/contrib/layers/fully_connected)\n",
    "- [Batch Normalization (the original paper)](https://arxiv.org/abs/1502.03167)\n",
    "- [Why does Batch Norm works? / deeplearning.ai - Andrew Ng.](https://www.youtube.com/watch?v=NbGUU6ZYtus)\n",
    "- [Dropout (the original paper)](https://www.cs.toronto.edu/~hinton/absps/JMLRdropout.pdf)\n",
    "- [Understanding Dropout / deeplearning.ai - Andrew Ng.](https://www.youtube.com/watch?v=ARq74QuavAo)\n",
    "- [Dropout in (Deep) Machine learning](https://medium.com/@amarbudhiraja/https-medium-com-amarbudhiraja-learning-less-to-learn-better-dropout-in-deep-machine-learning-74334da4bfc5)\n",
    "- [What is the meaning of flattening step in a convolutional neural network?](https://www.quora.com/What-is-the-meaning-of-flattening-step-in-a-convolutional-neural-network)\n",
    "- [Convolutional Neural Networks (CNNs / ConvNets) - CS231n](http://cs231n.github.io/convolutional-networks/)\n",
    "- [Visualizing and Understanding Convolutional Networks](https://cs.nyu.edu/~fergus/papers/zeilerECCV2014.pdf)\n",
    "- [Evaluation of the CNN design choices performance on ImageNet-2012](https://github.com/ducha-aiki/caffenet-benchmark)"
   ]
  },
  {
   "cell_type": "code",
   "execution_count": 0,
   "metadata": {
    "colab": {
     "autoexec": {
      "startup": false,
      "wait_interval": 0
     }
    },
    "colab_type": "code",
    "collapsed": true,
    "id": "iezHmHUI8bNG"
   },
   "outputs": [],
   "source": [
    "def conv_net(x, keep_prob):\n",
    "    conv1_filter = tf.Variable(tf.truncated_normal(shape=[3, 3, 3, 64], mean=0, stddev=0.08))\n",
    "    conv2_filter = tf.Variable(tf.truncated_normal(shape=[3, 3, 64, 128], mean=0, stddev=0.08))\n",
    "    conv3_filter = tf.Variable(tf.truncated_normal(shape=[3, 3, 128, 256], mean=0, stddev=0.08))\n",
    "    conv4_filter = tf.Variable(tf.truncated_normal(shape=[3, 3, 256, 512], mean=0, stddev=0.08))\n",
    "\n",
    "    # 1, 2\n",
    "    conv1 = tf.nn.conv2d(x, conv1_filter, strides=[1,1,1,1], padding='SAME')\n",
    "    conv1 = tf.nn.relu(conv1)\n",
    "    conv1_pool = tf.nn.max_pool(conv1, ksize=[1,2,2,1], strides=[1,2,2,1], padding='SAME')\n",
    "    conv1_bn = tf.layers.batch_normalization(conv1_pool)\n",
    "\n",
    "    # 3, 4\n",
    "    conv2 = tf.nn.conv2d(conv1_bn, conv2_filter, strides=[1,1,1,1], padding='SAME')\n",
    "    conv2 = tf.nn.relu(conv2)\n",
    "    conv2_pool = tf.nn.max_pool(conv2, ksize=[1,2,2,1], strides=[1,2,2,1], padding='SAME')    \n",
    "    conv2_bn = tf.layers.batch_normalization(conv2_pool)\n",
    "  \n",
    "    # 5, 6\n",
    "    conv3 = tf.nn.conv2d(conv2_bn, conv3_filter, strides=[1,1,1,1], padding='SAME')\n",
    "    conv3 = tf.nn.relu(conv3)\n",
    "    conv3_pool = tf.nn.max_pool(conv3, ksize=[1,2,2,1], strides=[1,2,2,1], padding='SAME')  \n",
    "    conv3_bn = tf.layers.batch_normalization(conv3_pool)\n",
    "    \n",
    "    # 7, 8\n",
    "    conv4 = tf.nn.conv2d(conv3_bn, conv4_filter, strides=[1,1,1,1], padding='SAME')\n",
    "    conv4 = tf.nn.relu(conv4)\n",
    "    conv4_pool = tf.nn.max_pool(conv4, ksize=[1,2,2,1], strides=[1,2,2,1], padding='SAME')\n",
    "    conv4_bn = tf.layers.batch_normalization(conv4_pool)\n",
    "    \n",
    "    # 9\n",
    "    flat = tf.contrib.layers.flatten(conv4_bn)  \n",
    "\n",
    "    # 10\n",
    "    full1 = tf.contrib.layers.fully_connected(inputs=flat, num_outputs=128, activation_fn=tf.nn.relu)\n",
    "    full1 = tf.nn.dropout(full1, keep_prob)\n",
    "    full1 = tf.layers.batch_normalization(full1)\n",
    "    \n",
    "    # 11\n",
    "    full2 = tf.contrib.layers.fully_connected(inputs=full1, num_outputs=256, activation_fn=tf.nn.relu)\n",
    "    full2 = tf.nn.dropout(full2, keep_prob)\n",
    "    full2 = tf.layers.batch_normalization(full2)\n",
    "    \n",
    "    # 12\n",
    "    full3 = tf.contrib.layers.fully_connected(inputs=full2, num_outputs=512, activation_fn=tf.nn.relu)\n",
    "    full3 = tf.nn.dropout(full3, keep_prob)\n",
    "    full3 = tf.layers.batch_normalization(full3)    \n",
    "    \n",
    "    # 13\n",
    "    full4 = tf.contrib.layers.fully_connected(inputs=full3, num_outputs=1024, activation_fn=tf.nn.relu)\n",
    "    full4 = tf.nn.dropout(full4, keep_prob)\n",
    "    full4 = tf.layers.batch_normalization(full4)        \n",
    "    \n",
    "    # 14\n",
    "    out = tf.contrib.layers.fully_connected(inputs=full3, num_outputs=10, activation_fn=None)\n",
    "    return out"
   ]
  },
  {
   "cell_type": "markdown",
   "metadata": {
    "colab_type": "text",
    "id": "Uv5FBsPT8bNL"
   },
   "source": [
    "### Hyperparameters\n",
    "\n",
    "* `epochs`: number of iterations until the network stops learning or start overfitting\n",
    "* `batch_size`: highest number that your machine has memory for.  Most people set them to common sizes of memory:\n",
    "* `keep_probability`: probability of keeping a node using dropout\n",
    "* `learning_rate`: number how fast the model learns"
   ]
  },
  {
   "cell_type": "code",
   "execution_count": 0,
   "metadata": {
    "colab": {
     "autoexec": {
      "startup": false,
      "wait_interval": 0
     }
    },
    "colab_type": "code",
    "collapsed": true,
    "id": "8MCzEsMF8bNM"
   },
   "outputs": [],
   "source": [
    "epochs = 10\n",
    "batch_size = 128\n",
    "keep_probability = 0.7\n",
    "learning_rate = 0.001"
   ]
  },
  {
   "cell_type": "markdown",
   "metadata": {
    "colab_type": "text",
    "id": "vXAieKEP8bNP"
   },
   "source": [
    "### Cost Function & Optimizer\n",
    "\n",
    "- [Tensorflow Softmax Cross Entropy with Logits](https://www.tensorflow.org/api_docs/python/tf/nn/softmax_cross_entropy_with_logits_v2)\n",
    "- [Tensorflow Reduce Mean](https://www.tensorflow.org/api_docs/python/tf/reduce_mean)\n",
    "- [Tensorflow Optimizers](https://www.tensorflow.org/api_guides/python/train)\n",
    "- [Tensorflow Equal](https://www.tensorflow.org/api_docs/python/tf/equal)\n",
    "- [Tensorflow Cast](https://www.tensorflow.org/api_docs/python/tf/cast)\n",
    "- [An overview of gradient descent optimization algorithms](http://ruder.io/optimizing-gradient-descent/)\n",
    "- [Optimization for Training Deep Models](http://www.deeplearningbook.org/contents/optimization.html)"
   ]
  },
  {
   "cell_type": "code",
   "execution_count": 17,
   "metadata": {
    "colab": {
     "autoexec": {
      "startup": false,
      "wait_interval": 0
     },
     "base_uri": "https://localhost:8080/",
     "height": 156
    },
    "colab_type": "code",
    "executionInfo": {
     "elapsed": 6269,
     "status": "ok",
     "timestamp": 1528927939517,
     "user": {
      "displayName": "Tony Cao",
      "photoUrl": "https://lh3.googleusercontent.com/a/default-user=s128",
      "userId": "100855536189264056432"
     },
     "user_tz": 420
    },
    "id": "bLn_luQM8bNR",
    "outputId": "9fa8788d-66bf-4eee-ecbf-be195d4de1e7"
   },
   "outputs": [
    {
     "name": "stdout",
     "output_type": "stream",
     "text": [
      "WARNING:tensorflow:From <ipython-input-17-bc29ffa8bb57>:5: softmax_cross_entropy_with_logits (from tensorflow.python.ops.nn_ops) is deprecated and will be removed in a future version.\n",
      "Instructions for updating:\n",
      "\n",
      "Future major versions of TensorFlow will allow gradients to flow\n",
      "into the labels input on backprop by default.\n",
      "\n",
      "See @{tf.nn.softmax_cross_entropy_with_logits_v2}.\n",
      "\n"
     ]
    }
   ],
   "source": [
    "logits = conv_net(x, keep_prob)\n",
    "model = tf.identity(logits, name='logits') # Name logits Tensor, so that can be loaded from disk after training\n",
    "\n",
    "# Loss and Optimizer\n",
    "cost = tf.reduce_mean(tf.nn.softmax_cross_entropy_with_logits(logits=logits, labels=y))\n",
    "optimizer = tf.train.AdamOptimizer(learning_rate=learning_rate).minimize(cost)\n",
    "\n",
    "# Accuracy\n",
    "correct_pred = tf.equal(tf.argmax(logits, 1), tf.argmax(y, 1))\n",
    "accuracy = tf.reduce_mean(tf.cast(correct_pred, tf.float32), name='accuracy')"
   ]
  },
  {
   "cell_type": "markdown",
   "metadata": {
    "colab_type": "text",
    "id": "AHWmqmGP8bNT"
   },
   "source": [
    "## Train the Neural Network\n",
    "\n",
    "We have defined cost, optimizer and accuracy, and what they really are is..\n",
    "- **cost**:  \n",
    "   - tf.reduce_mean returns => The reduced **Tensor**\n",
    "- **optimizer**:  \n",
    "   - tf.train.AdamOptimizer returns => An **Operation** that applies the specified gradients.\n",
    "- **accuracy**: \n",
    "   - tf.reduce_mean returns => The reduced **Tensor**\n",
    "\n",
    "tf.Session.run method in the official document explains it runs one \"step\" of TensorFlow computation, by running the necessary graph fragment to execute every Operation and evaluate every Tensor in fetches, substituting the values in feed_dict for the corresponding input values. The fetches argument may be a single graph element, or an arbitrarily nested list, tuple, etc.\n",
    "\n",
    "Here what graph element really is tf.Tensor or tf.Operation. Cost, Optimizer, and Accuracy are one of those types meaning they can be specified as part of the fetches argument. Then, we can feed some variables along the way. This is kind of handy feature of Tensorflow. Once we have constructed the graph, all we need to do is feeding data into that graph and specifying what results to retrieve.\n",
    "\n",
    "\n",
    "\n",
    "#### some references to look up\n",
    "- [Tensorflow Session run function](https://www.tensorflow.org/api_docs/python/tf/Session#run)\n",
    "- [Tensorflow tf.reduce_mean](https://www.tensorflow.org/api_docs/python/tf/reduce_mean)\n",
    "- [Tensorflow tf.train.AdamOptimizer](https://www.tensorflow.org/api_docs/python/tf/train/AdamOptimizer)\n",
    "\n",
    "### Single Optimization\n"
   ]
  },
  {
   "cell_type": "code",
   "execution_count": 0,
   "metadata": {
    "colab": {
     "autoexec": {
      "startup": false,
      "wait_interval": 0
     }
    },
    "colab_type": "code",
    "collapsed": true,
    "id": "mrtyV-wc8bNU"
   },
   "outputs": [],
   "source": [
    "def train_neural_network(session, optimizer, keep_probability, feature_batch, label_batch):\n",
    "    session.run(optimizer, \n",
    "                feed_dict={\n",
    "                    x: feature_batch,\n",
    "                    y: label_batch,\n",
    "                    keep_prob: keep_probability\n",
    "                })"
   ]
  },
  {
   "cell_type": "markdown",
   "metadata": {
    "colab_type": "text",
    "id": "ruysdaOv8bNX"
   },
   "source": [
    "### Show Stats\n"
   ]
  },
  {
   "cell_type": "code",
   "execution_count": 0,
   "metadata": {
    "colab": {
     "autoexec": {
      "startup": false,
      "wait_interval": 0
     }
    },
    "colab_type": "code",
    "collapsed": true,
    "id": "zEH_hxGx8bNY"
   },
   "outputs": [],
   "source": [
    "def print_stats(session, feature_batch, label_batch, cost, accuracy):\n",
    "    loss = sess.run(cost, \n",
    "                    feed_dict={\n",
    "                        x: feature_batch,\n",
    "                        y: label_batch,\n",
    "                        keep_prob: 1.\n",
    "                    })\n",
    "    valid_acc = sess.run(accuracy, \n",
    "                         feed_dict={\n",
    "                             x: valid_features,\n",
    "                             y: valid_labels,\n",
    "                             keep_prob: 1.\n",
    "                         })\n",
    "    \n",
    "    print('Loss: {:>10.4f} Validation Accuracy: {:.6f}'.format(loss, valid_acc))"
   ]
  },
  {
   "cell_type": "markdown",
   "metadata": {
    "colab_type": "text",
    "id": "NCSIM6ACZOZ6"
   },
   "source": [
    "###Helper Functions"
   ]
  },
  {
   "cell_type": "code",
   "execution_count": 0,
   "metadata": {
    "colab": {
     "autoexec": {
      "startup": false,
      "wait_interval": 0
     }
    },
    "colab_type": "code",
    "collapsed": true,
    "id": "10VrtpgHZTwo"
   },
   "outputs": [],
   "source": [
    "def batch_features_labels(features, labels, batch_size):\n",
    "    \"\"\"\n",
    "    Split features and labels into batches\n",
    "    \"\"\"\n",
    "    for start in range(0, len(features), batch_size):\n",
    "        end = min(start + batch_size, len(features))\n",
    "        yield features[start:end], labels[start:end]\n",
    "\n",
    "\n",
    "def load_preprocess_training_batch(batch_id, batch_size):\n",
    "    \"\"\"\n",
    "    Load the Preprocessed Training data and return them in batches of <batch_size> or less\n",
    "    \"\"\"\n",
    "    filename = 'preprocess_batch_' + str(batch_id) + '.p'\n",
    "    features, labels = pickle.load(open(filename, mode='rb'))\n",
    "\n",
    "    # Return the training data in batches of size <batch_size> or less\n",
    "    return batch_features_labels(features, labels, batch_size)"
   ]
  },
  {
   "cell_type": "markdown",
   "metadata": {
    "colab_type": "text",
    "id": "eMgwAcib8bNa"
   },
   "source": [
    "### Fully Train the Model"
   ]
  },
  {
   "cell_type": "code",
   "execution_count": 21,
   "metadata": {
    "colab": {
     "autoexec": {
      "startup": false,
      "wait_interval": 0
     },
     "base_uri": "https://localhost:8080/",
     "height": 901
    },
    "colab_type": "code",
    "executionInfo": {
     "elapsed": 139501,
     "status": "ok",
     "timestamp": 1528928081299,
     "user": {
      "displayName": "Tony Cao",
      "photoUrl": "https://lh3.googleusercontent.com/a/default-user=s128",
      "userId": "100855536189264056432"
     },
     "user_tz": 420
    },
    "id": "I-jd2WnX8bNb",
    "outputId": "8cded651-68d7-45bc-ce9b-e0ee713ae2d9"
   },
   "outputs": [
    {
     "name": "stdout",
     "output_type": "stream",
     "text": [
      "Training...\n",
      "Epoch  1, CIFAR-10 Batch 1:  Loss:     2.0781 Validation Accuracy: 0.273000\n",
      "Epoch  1, CIFAR-10 Batch 2:  Loss:     1.7396 Validation Accuracy: 0.325400\n",
      "Epoch  1, CIFAR-10 Batch 3:  Loss:     1.2053 Validation Accuracy: 0.425600\n",
      "Epoch  1, CIFAR-10 Batch 4:  Loss:     1.4272 Validation Accuracy: 0.475600\n",
      "Epoch  1, CIFAR-10 Batch 5:  Loss:     1.2922 Validation Accuracy: 0.511200\n",
      "Epoch  2, CIFAR-10 Batch 1:  Loss:     1.1872 Validation Accuracy: 0.574400\n",
      "Epoch  2, CIFAR-10 Batch 2:  Loss:     1.1272 Validation Accuracy: 0.539000\n",
      "Epoch  2, CIFAR-10 Batch 3:  Loss:     0.9365 Validation Accuracy: 0.564400\n",
      "Epoch  2, CIFAR-10 Batch 4:  Loss:     0.8924 Validation Accuracy: 0.610000\n",
      "Epoch  2, CIFAR-10 Batch 5:  Loss:     0.7521 Validation Accuracy: 0.645200\n",
      "Epoch  3, CIFAR-10 Batch 1:  Loss:     0.7944 Validation Accuracy: 0.646800\n",
      "Epoch  3, CIFAR-10 Batch 2:  Loss:     0.6484 Validation Accuracy: 0.661200\n",
      "Epoch  3, CIFAR-10 Batch 3:  Loss:     0.5735 Validation Accuracy: 0.678800\n",
      "Epoch  3, CIFAR-10 Batch 4:  Loss:     0.7034 Validation Accuracy: 0.666400\n",
      "Epoch  3, CIFAR-10 Batch 5:  Loss:     0.4262 Validation Accuracy: 0.681400\n",
      "Epoch  4, CIFAR-10 Batch 1:  Loss:     0.4623 Validation Accuracy: 0.689000\n",
      "Epoch  4, CIFAR-10 Batch 2:  Loss:     0.5336 Validation Accuracy: 0.674200\n",
      "Epoch  4, CIFAR-10 Batch 3:  Loss:     0.2767 Validation Accuracy: 0.713800\n",
      "Epoch  4, CIFAR-10 Batch 4:  Loss:     0.3258 Validation Accuracy: 0.714800\n",
      "Epoch  4, CIFAR-10 Batch 5:  Loss:     0.2865 Validation Accuracy: 0.683600\n",
      "Epoch  5, CIFAR-10 Batch 1:  Loss:     0.3855 Validation Accuracy: 0.683000\n",
      "Epoch  5, CIFAR-10 Batch 2:  Loss:     0.2930 Validation Accuracy: 0.677200\n",
      "Epoch  5, CIFAR-10 Batch 3:  Loss:     0.2131 Validation Accuracy: 0.703000\n",
      "Epoch  5, CIFAR-10 Batch 4:  Loss:     0.2316 Validation Accuracy: 0.729000\n",
      "Epoch  5, CIFAR-10 Batch 5:  Loss:     0.1675 Validation Accuracy: 0.705400\n",
      "Epoch  6, CIFAR-10 Batch 1:  Loss:     0.1843 Validation Accuracy: 0.713000\n",
      "Epoch  6, CIFAR-10 Batch 2:  Loss:     0.1651 Validation Accuracy: 0.704800\n",
      "Epoch  6, CIFAR-10 Batch 3:  Loss:     0.1438 Validation Accuracy: 0.728200\n",
      "Epoch  6, CIFAR-10 Batch 4:  Loss:     0.1248 Validation Accuracy: 0.728600\n",
      "Epoch  6, CIFAR-10 Batch 5:  Loss:     0.1404 Validation Accuracy: 0.732200\n",
      "Epoch  7, CIFAR-10 Batch 1:  Loss:     0.0975 Validation Accuracy: 0.710400\n",
      "Epoch  7, CIFAR-10 Batch 2:  Loss:     0.2304 Validation Accuracy: 0.735000\n",
      "Epoch  7, CIFAR-10 Batch 3:  Loss:     0.0960 Validation Accuracy: 0.739200\n",
      "Epoch  7, CIFAR-10 Batch 4:  Loss:     0.0953 Validation Accuracy: 0.729400\n",
      "Epoch  7, CIFAR-10 Batch 5:  Loss:     0.0513 Validation Accuracy: 0.746000\n",
      "Epoch  8, CIFAR-10 Batch 1:  Loss:     0.0606 Validation Accuracy: 0.745200\n",
      "Epoch  8, CIFAR-10 Batch 2:  Loss:     0.1051 Validation Accuracy: 0.735400\n",
      "Epoch  8, CIFAR-10 Batch 3:  Loss:     0.0527 Validation Accuracy: 0.729000\n",
      "Epoch  8, CIFAR-10 Batch 4:  Loss:     0.0768 Validation Accuracy: 0.729000\n",
      "Epoch  8, CIFAR-10 Batch 5:  Loss:     0.0268 Validation Accuracy: 0.739800\n",
      "Epoch  9, CIFAR-10 Batch 1:  Loss:     0.0551 Validation Accuracy: 0.737200\n",
      "Epoch  9, CIFAR-10 Batch 2:  Loss:     0.0968 Validation Accuracy: 0.706200\n",
      "Epoch  9, CIFAR-10 Batch 3:  Loss:     0.0368 Validation Accuracy: 0.725600\n",
      "Epoch  9, CIFAR-10 Batch 4:  Loss:     0.0573 Validation Accuracy: 0.721400\n",
      "Epoch  9, CIFAR-10 Batch 5:  Loss:     0.0226 Validation Accuracy: 0.736600\n",
      "Epoch 10, CIFAR-10 Batch 1:  Loss:     0.0413 Validation Accuracy: 0.729200\n",
      "Epoch 10, CIFAR-10 Batch 2:  Loss:     0.0695 Validation Accuracy: 0.733800\n",
      "Epoch 10, CIFAR-10 Batch 3:  Loss:     0.0120 Validation Accuracy: 0.738000\n",
      "Epoch 10, CIFAR-10 Batch 4:  Loss:     0.0455 Validation Accuracy: 0.732000\n",
      "Epoch 10, CIFAR-10 Batch 5:  Loss:     0.0248 Validation Accuracy: 0.734200\n"
     ]
    }
   ],
   "source": [
    "save_model_path = './image_classification'\n",
    "\n",
    "print('Training...')\n",
    "with tf.Session() as sess:\n",
    "    # Initializing the variables\n",
    "    sess.run(tf.global_variables_initializer())\n",
    "    \n",
    "    # Training cycle\n",
    "    for epoch in range(epochs):\n",
    "        # Loop over all batches\n",
    "        n_batches = 5\n",
    "        for batch_i in range(1, n_batches + 1):\n",
    "            print('Epoch {:>2}, CIFAR-10 Batch {}:  '.format(epoch + 1, batch_i), end='')\n",
    "            for batch_features, batch_labels in load_preprocess_training_batch(batch_i, batch_size):\n",
    "                train_neural_network(sess, optimizer, keep_probability, batch_features, batch_labels)\n",
    "                      \n",
    "            print_stats(sess, batch_features, batch_labels, cost, accuracy)\n",
    "            \n",
    "    # Save Model\n",
    "    saver = tf.train.Saver()\n",
    "    save_path = saver.save(sess, save_model_path)"
   ]
  },
  {
   "cell_type": "markdown",
   "metadata": {
    "colab_type": "text",
    "id": "oolRwRCh8bNf"
   },
   "source": [
    "# Checkpoint\n",
    "The model has been saved to disk.\n",
    "## Test Model"
   ]
  },
  {
   "cell_type": "code",
   "execution_count": 0,
   "metadata": {
    "colab": {
     "autoexec": {
      "startup": false,
      "wait_interval": 0
     }
    },
    "colab_type": "code",
    "collapsed": true,
    "id": "i1dvsqrL8bNi"
   },
   "outputs": [],
   "source": [
    "%matplotlib inline\n",
    "%config InlineBackend.figure_format = 'retina'\n",
    "\n",
    "import tensorflow as tf\n",
    "import pickle\n",
    "import random\n",
    "from sklearn.preprocessing import LabelBinarizer\n",
    "\n",
    "save_model_path = './image_classification'\n",
    "batch_size = 64\n",
    "n_samples = 5\n",
    "top_n_predictions = 3\n",
    "\n",
    "\n",
    "def batch_features_labels(features, labels, batch_size):\n",
    "    \"\"\"\n",
    "    Split features and labels into batches\n",
    "    \"\"\"\n",
    "    for start in range(0, len(features), batch_size):\n",
    "        end = min(start + batch_size, len(features))\n",
    "        yield features[start:end], labels[start:end]\n",
    "\n",
    "\n",
    "def display_image_predictions(features, labels, predictions, n_samples=10, n_predictions=3):\n",
    "    n_classes = 10\n",
    "    label_names = load_label_names()\n",
    "    label_binarizer = LabelBinarizer()\n",
    "    label_binarizer.fit(range(n_classes))\n",
    "    label_ids = label_binarizer.inverse_transform(np.array(labels))\n",
    "\n",
    "    fig, axies = plt.subplots(nrows=n_samples, ncols=2, figsize=(10,10))\n",
    "    fig.tight_layout()\n",
    "    fig.suptitle('Softmax Predictions', fontsize=20, y=1.1)\n",
    "\n",
    "    # n_predictions = 3\n",
    "    margin = 0.05\n",
    "    ind = np.arange(n_predictions)\n",
    "    width = (1. - 2. * margin) / n_predictions\n",
    "\n",
    "    for image_i, (feature, label_id, pred_indicies, pred_values) in enumerate(zip(features, label_ids, predictions.indices, predictions.values)):\n",
    "        pred_names = [label_names[pred_i] for pred_i in pred_indicies]\n",
    "        correct_name = label_names[label_id]\n",
    "        \n",
    "        # print(image_i)\n",
    "        # print(ind + margin)\n",
    "        # print(pred_values[::-1])\n",
    "        # print(width)\n",
    "        \n",
    "        axies[image_i][0].imshow(feature*255)\n",
    "        axies[image_i][0].set_title(correct_name)\n",
    "        axies[image_i][0].set_axis_off()\n",
    "        \n",
    "        \n",
    "        axies[image_i][1].barh(ind + margin, pred_values[::-1], width)\n",
    "        axies[image_i][1].set_yticks(ind + margin)\n",
    "        axies[image_i][1].set_yticklabels(pred_names[::-1])\n",
    "        axies[image_i][1].set_xticks([0, 0.5, 1.0])\n",
    "\n",
    "        \n",
    "def test_model(n_samples=10, top_n_predictions=3):\n",
    "    test_features, test_labels = pickle.load(open('preprocess_training.p', mode='rb'))\n",
    "    loaded_graph = tf.Graph()\n",
    "\n",
    "    with tf.Session(graph=loaded_graph) as sess:\n",
    "        # Load model\n",
    "        loader = tf.train.import_meta_graph(save_model_path + '.meta')\n",
    "        loader.restore(sess, save_model_path)\n",
    "\n",
    "        # Get Tensors from loaded model\n",
    "        loaded_x = loaded_graph.get_tensor_by_name('input_x:0')\n",
    "        loaded_y = loaded_graph.get_tensor_by_name('output_y:0')\n",
    "        loaded_keep_prob = loaded_graph.get_tensor_by_name('keep_prob:0')\n",
    "        loaded_logits = loaded_graph.get_tensor_by_name('logits:0')\n",
    "        loaded_acc = loaded_graph.get_tensor_by_name('accuracy:0')\n",
    "        \n",
    "        # Get accuracy in batches for memory limitations\n",
    "        test_batch_acc_total = 0\n",
    "        test_batch_count = 0\n",
    "        \n",
    "        for train_feature_batch, train_label_batch in batch_features_labels(test_features, test_labels, batch_size):\n",
    "            test_batch_acc_total += sess.run(\n",
    "                loaded_acc,\n",
    "                feed_dict={loaded_x: train_feature_batch, loaded_y: train_label_batch, loaded_keep_prob: 1.0})\n",
    "            test_batch_count += 1\n",
    "\n",
    "        print('Testing Accuracy: {}\\n'.format(test_batch_acc_total/test_batch_count))\n",
    "\n",
    "        # Print Random Samples\n",
    "        random_test_features, random_test_labels = tuple(zip(*random.sample(list(zip(test_features, test_labels)), n_samples)))\n",
    "        \n",
    "        random_test_predictions = sess.run(\n",
    "            tf.nn.top_k(tf.nn.softmax(loaded_logits), top_n_predictions),\n",
    "            feed_dict={loaded_x: random_test_features, loaded_y: random_test_labels, loaded_keep_prob: 1.0})\n",
    "         \n",
    "        display_image_predictions(random_test_features, random_test_labels, random_test_predictions, n_samples, top_n_predictions)\n",
    "\n",
    "\n"
   ]
  },
  {
   "cell_type": "code",
   "execution_count": 23,
   "metadata": {
    "colab": {
     "autoexec": {
      "startup": false,
      "wait_interval": 0
     },
     "base_uri": "https://localhost:8080/",
     "height": 865
    },
    "colab_type": "code",
    "executionInfo": {
     "elapsed": 4394,
     "status": "ok",
     "timestamp": 1528928088094,
     "user": {
      "displayName": "Tony Cao",
      "photoUrl": "https://lh3.googleusercontent.com/a/default-user=s128",
      "userId": "100855536189264056432"
     },
     "user_tz": 420
    },
    "id": "fjQU8tMnfM3h",
    "outputId": "c439ed4c-22f0-4f3a-9def-86b151e3564c"
   },
   "outputs": [
    {
     "name": "stdout",
     "output_type": "stream",
     "text": [
      "INFO:tensorflow:Restoring parameters from ./image_classification\n",
      "Testing Accuracy: 0.7262141719745223\n",
      "\n"
     ]
    },
    {
     "data": {
      "image/png": "[encoded data removed]",
      "text/plain": [
       "<matplotlib.figure.Figure at 0x7fa1230b0240>"
      ]
     },
     "metadata": {
      "image/png": {
       "height": 795,
       "width": 604
      },
      "tags": []
     },
     "output_type": "display_data"
    }
   ],
   "source": [
    "test_model(n_samples, top_n_predictions)"
   ]
  },
  {
   "cell_type": "markdown",
   "metadata": {
    "colab_type": "text",
    "id": "SMCalYuM8bNn"
   },
   "source": [
    "## Other Models & their Accuracies \n",
    "[Classification datasets results - well above 70%](http://rodrigob.github.io/are_we_there_yet/build/classification_datasets_results.html#43494641522d3130)"
   ]
  },
  {
   "cell_type": "code",
   "execution_count": 0,
   "metadata": {
    "colab": {
     "autoexec": {
      "startup": false,
      "wait_interval": 0
     }
    },
    "colab_type": "code",
    "collapsed": true,
    "id": "cF6TeTab8bNn"
   },
   "outputs": [],
   "source": []
  }
 ],
 "metadata": {
  "accelerator": "GPU",
  "colab": {
   "collapsed_sections": [],
   "default_view": {},
   "name": "CIFAR10_image_classification.ipynb",
   "provenance": [],
   "version": "0.3.2",
   "views": {}
  },
  "kernelspec": {
   "display_name": "Python 3",
   "language": "python",
   "name": "python3"
  },
  "language_info": {
   "codemirror_mode": {
    "name": "ipython",
    "version": 3
   },
   "file_extension": ".py",
   "mimetype": "text/x-python",
   "name": "python",
   "nbconvert_exporter": "python",
   "pygments_lexer": "ipython3",
   "version": "3.6.7"
  }
 },
 "nbformat": 4,
 "nbformat_minor": 1
}
